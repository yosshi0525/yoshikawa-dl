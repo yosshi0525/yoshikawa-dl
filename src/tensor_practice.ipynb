{
 "cells": [
  {
   "cell_type": "code",
   "execution_count": 1,
   "id": "2c8d0bcf-9436-40b4-9915-f266a9fd5bf7",
   "metadata": {},
   "outputs": [],
   "source": [
    "import torch\n",
    "from torch import Tensor"
   ]
  },
  {
   "cell_type": "code",
   "execution_count": 2,
   "id": "f7bdf569-2c39-4adf-8bc9-48bcb8867887",
   "metadata": {},
   "outputs": [],
   "source": [
    "a = Tensor(\n",
    "    [\n",
    "        [1, 2, 3],\n",
    "        [4, 5, 6],\n",
    "    ]\n",
    ")"
   ]
  },
  {
   "cell_type": "code",
   "execution_count": 3,
   "id": "4d4cafd5-5ecc-48cc-b10e-5312282f5a41",
   "metadata": {},
   "outputs": [],
   "source": [
    "b = Tensor([[7, 8, 9], [0, 1, 2],])"
   ]
  },
  {
   "cell_type": "code",
   "execution_count": 4,
   "id": "28d22619-3e7d-46a4-aefa-d0aa89cfe758",
   "metadata": {},
   "outputs": [
    {
     "data": {
      "text/plain": [
       "tensor([[[1., 2., 3.],\n",
       "         [4., 5., 6.]],\n",
       "\n",
       "        [[7., 8., 9.],\n",
       "         [0., 1., 2.]]])"
      ]
     },
     "execution_count": 4,
     "metadata": {},
     "output_type": "execute_result"
    }
   ],
   "source": [
    "torch.stack([a, b])"
   ]
  },
  {
   "cell_type": "code",
   "execution_count": 5,
   "id": "f682c5c9-e2e6-43f4-9663-12e94eec6a82",
   "metadata": {},
   "outputs": [],
   "source": [
    "c = a.unsqueeze(dim=1)\n",
    "d = b.unsqueeze(dim=1)"
   ]
  },
  {
   "cell_type": "code",
   "execution_count": 6,
   "id": "adaecdc9-c4b2-46bf-9878-9bc47c1b8de1",
   "metadata": {},
   "outputs": [
    {
     "data": {
      "text/plain": [
       "tensor([[[1., 2., 3.]],\n",
       "\n",
       "        [[4., 5., 6.]],\n",
       "\n",
       "        [[7., 8., 9.]],\n",
       "\n",
       "        [[0., 1., 2.]]])"
      ]
     },
     "execution_count": 6,
     "metadata": {},
     "output_type": "execute_result"
    }
   ],
   "source": [
    "torch.cat([c, d])"
   ]
  },
  {
   "cell_type": "code",
   "execution_count": 7,
   "id": "bf50b74a-c5c8-4eee-b52b-38808885eca5",
   "metadata": {},
   "outputs": [
    {
     "data": {
      "text/plain": [
       "tensor([[[1., 2., 3.]],\n",
       "\n",
       "        [[4., 5., 6.]]])"
      ]
     },
     "execution_count": 7,
     "metadata": {},
     "output_type": "execute_result"
    }
   ],
   "source": [
    "c"
   ]
  },
  {
   "cell_type": "code",
   "execution_count": 8,
   "id": "7074d729-8d0d-446f-b251-2c9d8900bd52",
   "metadata": {},
   "outputs": [
    {
     "name": "stdout",
     "output_type": "stream",
     "text": [
      "0\n",
      "1\n",
      "2\n"
     ]
    }
   ],
   "source": [
    "for i in range(3):\n",
    "    print(i)"
   ]
  },
  {
   "cell_type": "code",
   "execution_count": null,
   "id": "b4ae0070-416c-4513-b484-dffffd11041a",
   "metadata": {},
   "outputs": [],
   "source": []
  }
 ],
 "metadata": {
  "kernelspec": {
   "display_name": "Python 3 (ipykernel)",
   "language": "python",
   "name": "python3"
  },
  "language_info": {
   "codemirror_mode": {
    "name": "ipython",
    "version": 3
   },
   "file_extension": ".py",
   "mimetype": "text/x-python",
   "name": "python",
   "nbconvert_exporter": "python",
   "pygments_lexer": "ipython3",
   "version": "3.10.13"
  }
 },
 "nbformat": 4,
 "nbformat_minor": 5
}
