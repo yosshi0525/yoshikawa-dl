{
 "cells": [
  {
   "cell_type": "code",
   "execution_count": 8,
   "id": "66aa46ec-fb4e-4ef8-a2be-d88284ea14b4",
   "metadata": {},
   "outputs": [],
   "source": [
    "import matplotlib.pyplot as plt\n",
    "import numpy as np\n",
    "import pandas as pd"
   ]
  },
  {
   "cell_type": "code",
   "execution_count": 11,
   "id": "a8b83cc0-a453-4524-8844-894016a2ea73",
   "metadata": {},
   "outputs": [],
   "source": [
    "csv = pd.read_csv(\"data/values.csv\", index_col=0)"
   ]
  },
  {
   "cell_type": "code",
   "execution_count": 12,
   "id": "7d95fd36-0e0d-4e5d-a6c6-48275bede606",
   "metadata": {},
   "outputs": [
    {
     "data": {
      "text/html": [
       "<div>\n",
       "<style scoped>\n",
       "    .dataframe tbody tr th:only-of-type {\n",
       "        vertical-align: middle;\n",
       "    }\n",
       "\n",
       "    .dataframe tbody tr th {\n",
       "        vertical-align: top;\n",
       "    }\n",
       "\n",
       "    .dataframe thead th {\n",
       "        text-align: right;\n",
       "    }\n",
       "</style>\n",
       "<table border=\"1\" class=\"dataframe\">\n",
       "  <thead>\n",
       "    <tr style=\"text-align: right;\">\n",
       "      <th></th>\n",
       "      <th>train_loss_value</th>\n",
       "      <th>train_acc_value</th>\n",
       "      <th>test_loss_value</th>\n",
       "      <th>test_acc_value</th>\n",
       "    </tr>\n",
       "  </thead>\n",
       "  <tbody>\n",
       "    <tr>\n",
       "      <th>0</th>\n",
       "      <td>2.260792</td>\n",
       "      <td>0.321117</td>\n",
       "      <td>2.260139</td>\n",
       "      <td>0.3300</td>\n",
       "    </tr>\n",
       "    <tr>\n",
       "      <th>1</th>\n",
       "      <td>2.189843</td>\n",
       "      <td>0.488550</td>\n",
       "      <td>2.188382</td>\n",
       "      <td>0.4948</td>\n",
       "    </tr>\n",
       "    <tr>\n",
       "      <th>2</th>\n",
       "      <td>2.046042</td>\n",
       "      <td>0.581633</td>\n",
       "      <td>2.042219</td>\n",
       "      <td>0.5993</td>\n",
       "    </tr>\n",
       "    <tr>\n",
       "      <th>3</th>\n",
       "      <td>1.720765</td>\n",
       "      <td>0.682317</td>\n",
       "      <td>1.710174</td>\n",
       "      <td>0.6983</td>\n",
       "    </tr>\n",
       "    <tr>\n",
       "      <th>4</th>\n",
       "      <td>1.180437</td>\n",
       "      <td>0.755500</td>\n",
       "      <td>1.159028</td>\n",
       "      <td>0.7704</td>\n",
       "    </tr>\n",
       "  </tbody>\n",
       "</table>\n",
       "</div>"
      ],
      "text/plain": [
       "   train_loss_value  train_acc_value  test_loss_value  test_acc_value\n",
       "0          2.260792         0.321117         2.260139          0.3300\n",
       "1          2.189843         0.488550         2.188382          0.4948\n",
       "2          2.046042         0.581633         2.042219          0.5993\n",
       "3          1.720765         0.682317         1.710174          0.6983\n",
       "4          1.180437         0.755500         1.159028          0.7704"
      ]
     },
     "execution_count": 12,
     "metadata": {},
     "output_type": "execute_result"
    }
   ],
   "source": [
    "csv"
   ]
  },
  {
   "cell_type": "code",
   "execution_count": null,
   "id": "596cd7f4-1ff9-4057-ae5c-e12fe5ba72ce",
   "metadata": {},
   "outputs": [],
   "source": []
  }
 ],
 "metadata": {
  "kernelspec": {
   "display_name": "Python 3 (ipykernel)",
   "language": "python",
   "name": "python3"
  },
  "language_info": {
   "codemirror_mode": {
    "name": "ipython",
    "version": 3
   },
   "file_extension": ".py",
   "mimetype": "text/x-python",
   "name": "python",
   "nbconvert_exporter": "python",
   "pygments_lexer": "ipython3",
   "version": "3.10.13"
  }
 },
 "nbformat": 4,
 "nbformat_minor": 5
}
