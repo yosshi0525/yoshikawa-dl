{
 "cells": [
  {
   "cell_type": "code",
   "execution_count": 71,
   "id": "751d1323-ff8a-4822-bd95-d0d503db2069",
   "metadata": {},
   "outputs": [],
   "source": [
    "from kwave.kgrid import kWaveGrid\n",
    "from kwave.kmedium import kWaveMedium\n",
    "from kwave.ksensor import kSensor\n",
    "from kwave.ksource import kSource\n",
    "from kwave.kspaceFirstOrder2D import kspaceFirstOrder2D\n",
    "from kwave.options.simulation_options import SimulationOptions\n",
    "from kwave.options.simulation_execution_options import SimulationExecutionOptions\n",
    "\n",
    "import numpy as np"
   ]
  },
  {
   "cell_type": "code",
   "execution_count": 60,
   "id": "f775576f-ff56-4e6b-98b4-2d21e098a6b0",
   "metadata": {},
   "outputs": [],
   "source": [
    "PML_size = 20\n",
    "Nx = 256\n",
    "Ny = 256\n",
    "dx = 0.25e-6\n",
    "dy = 0.25e-6\n",
    "kgrid = kWaveGrid([Nx, Ny], [dx, dy])"
   ]
  },
  {
   "cell_type": "code",
   "execution_count": 61,
   "id": "fe234b2b-cd40-4c29-9b29-49aee6d8eb7c",
   "metadata": {},
   "outputs": [],
   "source": [
    "medium = kWaveMedium([[1500 for i in range(Nx)] for j in range(Ny)])"
   ]
  },
  {
   "cell_type": "code",
   "execution_count": 62,
   "id": "e638d47a-2cb0-492e-b5d2-e752c765c542",
   "metadata": {},
   "outputs": [],
   "source": [
    "medium.density = 1040"
   ]
  },
  {
   "cell_type": "code",
   "execution_count": 63,
   "id": "f4660788-5e3f-4e91-81c6-019995fe7ccd",
   "metadata": {},
   "outputs": [],
   "source": [
    "medium.alpha_coeff = 0.75\n",
    "medium.alpha_power = 1.5\n",
    "medium.BonA = 5.5"
   ]
  },
  {
   "cell_type": "code",
   "execution_count": 64,
   "id": "7e0ef824-99f0-416c-937d-5d4a0994e62a",
   "metadata": {},
   "outputs": [],
   "source": [
    "mask = [[0 for i in range(Nx)] for j in range(Ny)]\n",
    "mask[Ny // 2][Nx // 2 : Nx] = [1 for i in range(Nx //2)]\n",
    "mask = np.array(mask)\n",
    "sensor = kSensor(mask=mask)"
   ]
  },
  {
   "cell_type": "code",
   "execution_count": 65,
   "id": "85080c8c-a8d1-430e-aed6-ffde49921bc4",
   "metadata": {},
   "outputs": [],
   "source": [
    "line_magnitude = 5\n",
    "source = kSource()\n",
    "# source.p0 = line_magnitude"
   ]
  },
  {
   "cell_type": "code",
   "execution_count": 66,
   "id": "877113b0-5d86-4f16-8f8b-459e3fdd9f11",
   "metadata": {},
   "outputs": [],
   "source": [
    "simulationOptions = SimulationOptions()"
   ]
  },
  {
   "cell_type": "code",
   "execution_count": 72,
   "id": "aaf43dee-8b54-4c98-baaf-2719bf46206e",
   "metadata": {},
   "outputs": [],
   "source": [
    "execution_options = SimulationExecutionOptions()"
   ]
  },
  {
   "cell_type": "code",
   "execution_count": 74,
   "id": "b4f0ea93-f65d-4943-af0e-58ba243b809a",
   "metadata": {},
   "outputs": [
    {
     "ename": "AttributeError",
     "evalue": "'NoneType' object has no attribute 'time_reversal_boundary_data'",
     "output_type": "error",
     "traceback": [
      "\u001b[0;31m---------------------------------------------------------------------------\u001b[0m",
      "\u001b[0;31mAttributeError\u001b[0m                            Traceback (most recent call last)",
      "Cell \u001b[0;32mIn[74], line 1\u001b[0m\n\u001b[0;32m----> 1\u001b[0m \u001b[43mkspaceFirstOrder2D\u001b[49m\u001b[43m(\u001b[49m\n\u001b[1;32m      2\u001b[0m \u001b[43m    \u001b[49m\u001b[43mkgrid\u001b[49m\u001b[38;5;241;43m=\u001b[39;49m\u001b[43mkgrid\u001b[49m\u001b[43m,\u001b[49m\n\u001b[1;32m      3\u001b[0m \u001b[43m    \u001b[49m\u001b[43msource\u001b[49m\u001b[38;5;241;43m=\u001b[39;49m\u001b[43msource\u001b[49m\u001b[43m,\u001b[49m\n\u001b[1;32m      4\u001b[0m \u001b[43m    \u001b[49m\u001b[43msensor\u001b[49m\u001b[38;5;241;43m=\u001b[39;49m\u001b[38;5;28;43;01mNone\u001b[39;49;00m\u001b[43m,\u001b[49m\n\u001b[1;32m      5\u001b[0m \u001b[43m    \u001b[49m\u001b[43mmedium\u001b[49m\u001b[38;5;241;43m=\u001b[39;49m\u001b[43mmedium\u001b[49m\u001b[43m,\u001b[49m\n\u001b[1;32m      6\u001b[0m \u001b[43m    \u001b[49m\u001b[43msimulation_options\u001b[49m\u001b[38;5;241;43m=\u001b[39;49m\u001b[43msimulationOptions\u001b[49m\u001b[43m,\u001b[49m\n\u001b[1;32m      7\u001b[0m \u001b[43m    \u001b[49m\u001b[43mexecution_options\u001b[49m\u001b[38;5;241;43m=\u001b[39;49m\u001b[43mexecution_options\u001b[49m\u001b[43m,\u001b[49m\n\u001b[1;32m      8\u001b[0m \u001b[43m)\u001b[49m\n",
      "File \u001b[0;32m/usr/local/lib/python3.10/site-packages/kwave/kspaceFirstOrder2D.py:298\u001b[0m, in \u001b[0;36mkspaceFirstOrder2D\u001b[0;34m(kgrid, source, sensor, medium, simulation_options, execution_options)\u001b[0m\n\u001b[1;32m    295\u001b[0m \u001b[38;5;66;03m# start the timer and store the start time\u001b[39;00m\n\u001b[1;32m    296\u001b[0m TicToc\u001b[38;5;241m.\u001b[39mtic()\n\u001b[0;32m--> 298\u001b[0m k_sim \u001b[38;5;241m=\u001b[39m \u001b[43mkWaveSimulation\u001b[49m\u001b[43m(\u001b[49m\n\u001b[1;32m    299\u001b[0m \u001b[43m    \u001b[49m\u001b[43mkgrid\u001b[49m\u001b[38;5;241;43m=\u001b[39;49m\u001b[43mkgrid\u001b[49m\u001b[43m,\u001b[49m\n\u001b[1;32m    300\u001b[0m \u001b[43m    \u001b[49m\u001b[43msource\u001b[49m\u001b[38;5;241;43m=\u001b[39;49m\u001b[43msource\u001b[49m\u001b[43m,\u001b[49m\n\u001b[1;32m    301\u001b[0m \u001b[43m    \u001b[49m\u001b[43msensor\u001b[49m\u001b[38;5;241;43m=\u001b[39;49m\u001b[43msensor\u001b[49m\u001b[43m,\u001b[49m\n\u001b[1;32m    302\u001b[0m \u001b[43m    \u001b[49m\u001b[43mmedium\u001b[49m\u001b[38;5;241;43m=\u001b[39;49m\u001b[43mmedium\u001b[49m\u001b[43m,\u001b[49m\n\u001b[1;32m    303\u001b[0m \u001b[43m    \u001b[49m\u001b[43msimulation_options\u001b[49m\u001b[38;5;241;43m=\u001b[39;49m\u001b[43msimulation_options\u001b[49m\n\u001b[1;32m    304\u001b[0m \u001b[43m\u001b[49m\u001b[43m)\u001b[49m\n\u001b[1;32m    305\u001b[0m k_sim\u001b[38;5;241m.\u001b[39minput_checking(\u001b[38;5;124m'\u001b[39m\u001b[38;5;124mkspaceFirstOrder2D\u001b[39m\u001b[38;5;124m'\u001b[39m)\n\u001b[1;32m    307\u001b[0m \u001b[38;5;66;03m# =========================================================================\u001b[39;00m\n\u001b[1;32m    308\u001b[0m \u001b[38;5;66;03m# CALCULATE MEDIUM PROPERTIES ON STAGGERED GRID\u001b[39;00m\n\u001b[1;32m    309\u001b[0m \u001b[38;5;66;03m# =========================================================================\u001b[39;00m\n",
      "File \u001b[0;32m/usr/local/lib/python3.10/site-packages/kwave/kWaveSimulation.py:50\u001b[0m, in \u001b[0;36mkWaveSimulation.__init__\u001b[0;34m(self, kgrid, source, sensor, medium, simulation_options)\u001b[0m\n\u001b[1;32m     40\u001b[0m \u001b[38;5;28mself\u001b[39m\u001b[38;5;241m.\u001b[39moptions \u001b[38;5;241m=\u001b[39m simulation_options\n\u001b[1;32m     42\u001b[0m \u001b[38;5;66;03m# =========================================================================\u001b[39;00m\n\u001b[1;32m     43\u001b[0m \u001b[38;5;66;03m# FLAGS WHICH DEPEND ON USER INPUTS (THESE SHOULD NOT BE MODIFIED)\u001b[39;00m\n\u001b[1;32m     44\u001b[0m \u001b[38;5;66;03m# =========================================================================\u001b[39;00m\n\u001b[0;32m   (...)\u001b[0m\n\u001b[1;32m     48\u001b[0m \u001b[38;5;66;03m# check if performing time reversal, and replace inputs to explicitly use a\u001b[39;00m\n\u001b[1;32m     49\u001b[0m \u001b[38;5;66;03m# source with a dirichlet boundary condition\u001b[39;00m\n\u001b[0;32m---> 50\u001b[0m \u001b[38;5;28;01mif\u001b[39;00m \u001b[38;5;28;43mself\u001b[39;49m\u001b[38;5;241;43m.\u001b[39;49m\u001b[43msensor\u001b[49m\u001b[38;5;241;43m.\u001b[39;49m\u001b[43mtime_reversal_boundary_data\u001b[49m \u001b[38;5;129;01mis\u001b[39;00m \u001b[38;5;129;01mnot\u001b[39;00m \u001b[38;5;28;01mNone\u001b[39;00m:\n\u001b[1;32m     51\u001b[0m     \u001b[38;5;66;03m# define a new source structure\u001b[39;00m\n\u001b[1;32m     52\u001b[0m     source \u001b[38;5;241m=\u001b[39m {\n\u001b[1;32m     53\u001b[0m         \u001b[38;5;124m'\u001b[39m\u001b[38;5;124mp_mask\u001b[39m\u001b[38;5;124m'\u001b[39m: \u001b[38;5;28mself\u001b[39m\u001b[38;5;241m.\u001b[39msensor\u001b[38;5;241m.\u001b[39mp_mask,\n\u001b[1;32m     54\u001b[0m         \u001b[38;5;124m'\u001b[39m\u001b[38;5;124mp\u001b[39m\u001b[38;5;124m'\u001b[39m: np\u001b[38;5;241m.\u001b[39mflip(\u001b[38;5;28mself\u001b[39m\u001b[38;5;241m.\u001b[39msensor\u001b[38;5;241m.\u001b[39mtime_reversal_boundary_data, \u001b[38;5;241m2\u001b[39m),\n\u001b[1;32m     55\u001b[0m         \u001b[38;5;124m'\u001b[39m\u001b[38;5;124mp_mode\u001b[39m\u001b[38;5;124m'\u001b[39m: \u001b[38;5;124m'\u001b[39m\u001b[38;5;124mdirichlet\u001b[39m\u001b[38;5;124m'\u001b[39m\n\u001b[1;32m     56\u001b[0m     }\n\u001b[1;32m     58\u001b[0m     \u001b[38;5;66;03m# define a new sensor structure\u001b[39;00m\n",
      "\u001b[0;31mAttributeError\u001b[0m: 'NoneType' object has no attribute 'time_reversal_boundary_data'"
     ]
    }
   ],
   "source": [
    "kspaceFirstOrder2D(\n",
    "    kgrid=kgrid,\n",
    "    source=source,\n",
    "    sensor=None,\n",
    "    medium=medium,\n",
    "    simulation_options=simulationOptions,\n",
    "    execution_options=execution_options,\n",
    ")"
   ]
  },
  {
   "cell_type": "code",
   "execution_count": null,
   "id": "6c7eb53c-9877-4490-a28c-1971b9775e4d",
   "metadata": {},
   "outputs": [],
   "source": []
  }
 ],
 "metadata": {
  "kernelspec": {
   "display_name": "Python 3 (ipykernel)",
   "language": "python",
   "name": "python3"
  },
  "language_info": {
   "codemirror_mode": {
    "name": "ipython",
    "version": 3
   },
   "file_extension": ".py",
   "mimetype": "text/x-python",
   "name": "python",
   "nbconvert_exporter": "python",
   "pygments_lexer": "ipython3",
   "version": "3.10.13"
  }
 },
 "nbformat": 4,
 "nbformat_minor": 5
}
